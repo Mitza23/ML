{
 "cells": [
  {
   "cell_type": "code",
   "execution_count": 1,
   "outputs": [],
   "source": [
    "import pandas as pd\n",
    "import numpy as np\n",
    "from sklearn.model_selection import train_test_split\n",
    "from sklearn.linear_model import LinearRegression\n",
    "from sklearn.model_selection import cross_val_score"
   ],
   "metadata": {
    "collapsed": false,
    "ExecuteTime": {
     "end_time": "2023-11-20T19:32:21.378910900Z",
     "start_time": "2023-11-20T19:32:17.639863600Z"
    }
   },
   "id": "cfac89c12412dbd"
  },
  {
   "cell_type": "code",
   "execution_count": 2,
   "outputs": [],
   "source": [
    "df = pd.read_csv('bodyfat.csv')\n",
    "# df.fillna(method='ffill', inplace=True)\n",
    "x = np.array(df.loc[:, df.columns != 'BodyFat']).reshape(-1, 14)\n",
    "y = np.array(df['BodyFat']).reshape(-1, 1)\n",
    "\n",
    "X_train, X_test, y_train, y_test = train_test_split(x, y, test_size=0.10)"
   ],
   "metadata": {
    "collapsed": false,
    "ExecuteTime": {
     "end_time": "2023-11-20T19:33:10.802228900Z",
     "start_time": "2023-11-20T19:33:10.739366700Z"
    }
   },
   "id": "bc3ad7b459bb5432"
  },
  {
   "cell_type": "code",
   "execution_count": 6,
   "outputs": [
    {
     "name": "stdout",
     "output_type": "stream",
     "text": [
      "0.9841591354550817\n",
      "0.9584 accuracy with a standard deviation of 0.0523\n"
     ]
    }
   ],
   "source": [
    "reg = LinearRegression()\n",
    "reg.fit(X_train, y_train)\n",
    "print(reg.score(X_test, y_test))\n",
    "regression_cross_validation_scores = cross_val_score(reg, x, y, cv=4)\n",
    "print(\"%0.4f accuracy with a standard deviation of %0.4f\" % (regression_cross_validation_scores.mean(), regression_cross_validation_scores.std()))"
   ],
   "metadata": {
    "collapsed": false,
    "ExecuteTime": {
     "end_time": "2023-11-20T19:39:06.666489Z",
     "start_time": "2023-11-20T19:39:06.618908900Z"
    }
   },
   "id": "728163dcb8252da5"
  },
  {
   "cell_type": "code",
   "execution_count": 9,
   "outputs": [
    {
     "data": {
      "text/plain": "array([[11.99731547]])"
     },
     "execution_count": 9,
     "metadata": {},
     "output_type": "execute_result"
    }
   ],
   "source": [
    "test = np.array([1.0708,23,154.25,67.75,36.2,93.1,85.2,94.5,59.0,37.3,21.9,32.0,27.4,17.1])\n",
    "reg.predict(test.reshape(1, -1))\n",
    "# 12.3 truth\n",
    "# 11.99 predicted"
   ],
   "metadata": {
    "collapsed": false,
    "ExecuteTime": {
     "end_time": "2023-11-07T15:07:05.532523900Z",
     "start_time": "2023-11-07T15:07:05.532523900Z"
    }
   },
   "id": "3230a3e08a196af8"
  },
  {
   "cell_type": "code",
   "execution_count": 5,
   "outputs": [
    {
     "name": "stdout",
     "output_type": "stream",
     "text": [
      "0.9961707623897929\n",
      "0.9584 accuracy with a standard deviation of 0.0523\n"
     ]
    }
   ],
   "source": [
    "from sklearn import tree\n",
    "\n",
    "decisionTree = tree.DecisionTreeRegressor()\n",
    "decisionTree.fit(X_train, y_train)\n",
    "print(decisionTree.score(X_test, y_test))\n",
    "tree_cross_validation_scores = cross_val_score(reg, x, y, cv=4)\n",
    "print(\"%0.4f accuracy with a standard deviation of %0.4f\" % (tree_cross_validation_scores.mean(), tree_cross_validation_scores.std()))"
   ],
   "metadata": {
    "collapsed": false,
    "ExecuteTime": {
     "end_time": "2023-11-20T19:39:04.206566400Z",
     "start_time": "2023-11-20T19:39:04.136574200Z"
    }
   },
   "id": "e9759c5577301d15"
  }
 ],
 "metadata": {
  "kernelspec": {
   "display_name": "Python 3",
   "language": "python",
   "name": "python3"
  },
  "language_info": {
   "codemirror_mode": {
    "name": "ipython",
    "version": 2
   },
   "file_extension": ".py",
   "mimetype": "text/x-python",
   "name": "python",
   "nbconvert_exporter": "python",
   "pygments_lexer": "ipython2",
   "version": "2.7.6"
  }
 },
 "nbformat": 4,
 "nbformat_minor": 5
}
