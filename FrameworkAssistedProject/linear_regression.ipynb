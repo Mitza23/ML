{
 "cells": [
  {
   "cell_type": "code",
   "execution_count": null,
   "outputs": [],
   "source": [
    "import pandas as pd\n",
    "import numpy as np\n",
    "from sklearn.model_selection import train_test_split\n",
    "from sklearn.linear_model import LinearRegression"
   ],
   "metadata": {
    "collapsed": false,
    "is_executing": true
   },
   "id": "cfac89c12412dbd"
  },
  {
   "cell_type": "code",
   "execution_count": 3,
   "outputs": [],
   "source": [
    "df = pd.read_csv('bodyfat.csv')\n",
    "# df.fillna(method='ffill', inplace=True)\n",
    "x = np.array(df.loc[:, df.columns != 'BodyFat']).reshape(-1, 14)\n",
    "y = np.array(df['BodyFat']).reshape(-1, 1)\n",
    "\n",
    "X_train, X_test, y_train, y_test = train_test_split(x, y, test_size=0.10)"
   ],
   "metadata": {
    "collapsed": false,
    "ExecuteTime": {
     "end_time": "2023-11-19T16:26:02.116925800Z",
     "start_time": "2023-11-19T16:26:02.057000600Z"
    }
   },
   "id": "bc3ad7b459bb5432"
  },
  {
   "cell_type": "code",
   "execution_count": 7,
   "outputs": [
    {
     "name": "stdout",
     "output_type": "stream",
     "text": [
      "0.9967503902441642\n"
     ]
    }
   ],
   "source": [
    "reg = LinearRegression()\n",
    "reg.fit(X_train, y_train)\n",
    "print(reg.score(X_test, y_test))"
   ],
   "metadata": {
    "collapsed": false,
    "ExecuteTime": {
     "end_time": "2023-11-19T16:26:21.906707900Z",
     "start_time": "2023-11-19T16:26:21.861638700Z"
    }
   },
   "id": "728163dcb8252da5"
  },
  {
   "cell_type": "code",
   "execution_count": 9,
   "outputs": [
    {
     "data": {
      "text/plain": "array([[11.99731547]])"
     },
     "execution_count": 9,
     "metadata": {},
     "output_type": "execute_result"
    }
   ],
   "source": [
    "test = np.array([1.0708,23,154.25,67.75,36.2,93.1,85.2,94.5,59.0,37.3,21.9,32.0,27.4,17.1])\n",
    "reg.predict(test.reshape(1, -1))\n",
    "# 12.3 truth\n",
    "# 11.99 predicted"
   ],
   "metadata": {
    "collapsed": false,
    "ExecuteTime": {
     "end_time": "2023-11-07T15:07:05.532523900Z",
     "start_time": "2023-11-07T15:07:05.532523900Z"
    }
   },
   "id": "3230a3e08a196af8"
  },
  {
   "cell_type": "code",
   "execution_count": 8,
   "outputs": [
    {
     "name": "stdout",
     "output_type": "stream",
     "text": [
      "0.998887380671577\n"
     ]
    }
   ],
   "source": [
    "from sklearn import tree\n",
    "\n",
    "decisionTree = tree.DecisionTreeRegressor()\n",
    "decisionTree.fit(X_train, y_train)\n",
    "print(decisionTree.score(X_test, y_test))"
   ],
   "metadata": {
    "collapsed": false,
    "ExecuteTime": {
     "end_time": "2023-11-19T16:26:24.247285700Z",
     "start_time": "2023-11-19T16:26:24.207236100Z"
    }
   },
   "id": "e9759c5577301d15"
  }
 ],
 "metadata": {
  "kernelspec": {
   "display_name": "Python 3",
   "language": "python",
   "name": "python3"
  },
  "language_info": {
   "codemirror_mode": {
    "name": "ipython",
    "version": 2
   },
   "file_extension": ".py",
   "mimetype": "text/x-python",
   "name": "python",
   "nbconvert_exporter": "python",
   "pygments_lexer": "ipython2",
   "version": "2.7.6"
  }
 },
 "nbformat": 4,
 "nbformat_minor": 5
}
